{
 "cells": [
  {
   "cell_type": "code",
   "execution_count": 3,
   "metadata": {
    "collapsed": true
   },
   "outputs": [],
   "source": [
    "# For data handling\n",
    "import pandas as pd\n",
    "import numpy as np\n",
    "import scipy.stats as stats\n",
    "\n",
    "# Disable warnings from printing\n",
    "from warnings import filterwarnings\n",
    "filterwarnings('ignore')"
   ]
  },
  {
   "cell_type": "code",
   "execution_count": 4,
   "metadata": {
    "collapsed": true
   },
   "outputs": [],
   "source": [
    "# Read the sessions data\n",
    "sessions = pd.read_csv(\"../Data/sessions.csv\")\n",
    "sessions.set_index(\"user_id\", inplace=True)\n",
    "sessions.fillna(-1, inplace=True)"
   ]
  },
  {
   "cell_type": "code",
   "execution_count": 5,
   "metadata": {
    "collapsed": false
   },
   "outputs": [],
   "source": [
    "# Replace infrequent values with 'Other' to avoid overfitting\n",
    "THRESHOLD = 0.005*sessions.shape[0]\n",
    "\n",
    "counts = sessions.action.value_counts()\n",
    "sessions.action = sessions.action.apply(lambda x: 'Other' if counts[x] < THRESHOLD else x)\n",
    "\n",
    "counts = sessions.action_type.value_counts()\n",
    "sessions.action_type = sessions.action_type.apply(lambda x: 'Other' if counts[x] < THRESHOLD else x)\n",
    "\n",
    "counts = sessions.device_type.value_counts()\n",
    "sessions.device_type = sessions.device_type.apply(lambda x: 'Other' if counts[x] < THRESHOLD else x)\n",
    "\n",
    "counts = sessions.action_detail.value_counts()\n",
    "sessions.action_detail = sessions.action_detail.apply(lambda x: 'Other' if counts[x] < THRESHOLD else x)"
   ]
  },
  {
   "cell_type": "code",
   "execution_count": null,
   "metadata": {
    "collapsed": false
   },
   "outputs": [],
   "source": [
    "# For each user get the count of different values of each categorical attribute\n",
    "column_list = [\"action\", \"action_type\", \"device_type\", \"action_detail\"]\n",
    "df_extracted_sessions = []\n",
    "\n",
    "for col in column_list:\n",
    "    for val in sessions[col].unique():\n",
    "        tmp_df = sessions.groupby(sessions.index).apply(lambda group, x=col, y=val: np.sum(group[x] == y))\n",
    "        tmp_df.name = '%s=%s' % (col, val)\n",
    "        df_extracted_sessions.append(tmp_df)\n",
    "                           \n",
    "frequency_counts = pd.concat(df_extracted_sessions, axis=1)"
   ]
  },
  {
   "cell_type": "code",
   "execution_count": null,
   "metadata": {
    "collapsed": true
   },
   "outputs": [],
   "source": [
    "secs_elapsed_data = sessions[\"secs_elapsed\"].groupby(sessions.index).aggregate(\n",
    "    [np.mean, np.std, np.median, stats.skew])\n",
    "secs_elapsed_data = ['%s_%s' % (\"secs_elapsed\", i) for i in secs_elapsed_data.columns]"
   ]
  },
  {
   "cell_type": "code",
   "execution_count": null,
   "metadata": {
    "collapsed": true
   },
   "outputs": [],
   "source": [
    "sessions_processed = pd.concat((frequency_counts, secs_elapsed_data), axis=1)\n",
    "sessions_processed.fillna(-1, inplace=True)\n",
    "sessions_processed.to_csv(\"../Data/sessions_processed.csv\", header=True)"
   ]
  }
 ],
 "metadata": {
  "anaconda-cloud": {},
  "kernelspec": {
   "display_name": "Python [Root]",
   "language": "python",
   "name": "Python [Root]"
  },
  "language_info": {
   "codemirror_mode": {
    "name": "ipython",
    "version": 3
   },
   "file_extension": ".py",
   "mimetype": "text/x-python",
   "name": "python",
   "nbconvert_exporter": "python",
   "pygments_lexer": "ipython3",
   "version": "3.5.2"
  }
 },
 "nbformat": 4,
 "nbformat_minor": 0
}
