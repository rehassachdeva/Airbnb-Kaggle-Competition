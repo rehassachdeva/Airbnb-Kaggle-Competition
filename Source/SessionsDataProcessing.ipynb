{
 "cells": [
  {
   "cell_type": "code",
   "execution_count": 4,
   "metadata": {
    "collapsed": true
   },
   "outputs": [],
   "source": [
    "import numpy as np\n",
    "import pandas as pd\n",
    "import scipy.stats as stats\n",
    "\n",
    "# Disable warnings from printing\n",
    "from warnings import filterwarnings\n",
    "filterwarnings('ignore')"
   ]
  },
  {
   "cell_type": "code",
   "execution_count": 5,
   "metadata": {
    "collapsed": true
   },
   "outputs": [],
   "source": [
    "# Read the sessions data\n",
    "sessions_data = pd.read_csv(\"../Data/sessions.csv\")"
   ]
  },
  {
   "cell_type": "code",
   "execution_count": 6,
   "metadata": {
    "collapsed": false
   },
   "outputs": [],
   "source": [
    "# Group all null user_ids into \"NAN\" group\n",
    "sessions_data[sessions_data.user_id.isnull()].user_id = \"NAN\""
   ]
  },
  {
   "cell_type": "code",
   "execution_count": 7,
   "metadata": {
    "collapsed": false
   },
   "outputs": [],
   "source": [
    "# Get unique user ids to store results\n",
    "sessions_data_ids = sessions_data.loc[:, [\"user_id\"]].drop_duplicates().reset_index().drop(\"index\", axis=1)"
   ]
  },
  {
   "cell_type": "code",
   "execution_count": 8,
   "metadata": {
    "collapsed": false
   },
   "outputs": [],
   "source": [
    "# Get user ids and actions for action processing\n",
    "sessions_data_action = sessions_data.loc[:, [\"user_id\", \"action\"]]"
   ]
  },
  {
   "cell_type": "code",
   "execution_count": 9,
   "metadata": {
    "collapsed": true
   },
   "outputs": [],
   "source": [
    "# Processing for Action attribute\n",
    "# Replace null values with 'NAN'\n",
    "sessions_data_action.action = sessions_data_action.action.fillna(\"NAN\")\n",
    "\n",
    "# Replace infrequent values with 'Other' to avoid overfitting and speed up computation\n",
    "THRESHOLD = 0.005*sessions_data_action.shape[0]\n",
    "counts = sessions_data_action.action.value_counts()\n",
    "sessions_data_action.action = sessions_data_action.action.apply(lambda x: 'Other' if counts[x] < THRESHOLD else x)"
   ]
  },
  {
   "cell_type": "code",
   "execution_count": 10,
   "metadata": {
    "collapsed": false
   },
   "outputs": [],
   "source": [
    "# Get counts of each action for each user\n",
    "unique_actions = sessions_data_action[\"action\"].unique()\n",
    "\n",
    "for act in unique_actions:\n",
    "    sessions_data_ids = sessions_data_ids.join(\n",
    "        sessions_data_action.loc[sessions_data_action.action == act, :].groupby(['user_id']).size().to_frame(),\n",
    "        on=\"user_id\")\n",
    "    sessions_data_ids.rename(columns={0 : \"action_\" + act}, inplace=True)\n",
    "    \n",
    "sessions_data_ids = sessions_data_ids.fillna(0)"
   ]
  },
  {
   "cell_type": "code",
   "execution_count": 11,
   "metadata": {
    "collapsed": false
   },
   "outputs": [],
   "source": [
    "# Get number of sessions of each user\n",
    "sessions_data_ids = sessions_data_ids.join(\n",
    "    sessions_data_action.groupby(['user_id'])[\"user_id\"].size().to_frame(),\n",
    "    on=\"user_id\")\n",
    "sessions_data_ids.rename(columns={0 : \"NumSessions\"}, inplace=True)"
   ]
  },
  {
   "cell_type": "code",
   "execution_count": 12,
   "metadata": {
    "collapsed": false
   },
   "outputs": [],
   "source": [
    "# Get mean and std of distribution of counts of actions for each user\n",
    "sessions_data_ids[\"NumActionsMean\"] = \\\n",
    "sessions_data_ids.loc[:, \"action_lookup\":\"action_similar_listings_v2\"].mean(axis=1)\n",
    "\n",
    "sessions_data_ids[\"NumActionsStd\"] = \\\n",
    "sessions_data_ids.loc[:, \"action_lookup\":\"action_similar_listings_v2\"].std(axis=1)"
   ]
  },
  {
   "cell_type": "code",
   "execution_count": 13,
   "metadata": {
    "collapsed": false
   },
   "outputs": [],
   "source": [
    "# Get user ids and action_type for action_type processing\n",
    "sessions_data_action_type = sessions_data.loc[:, [\"user_id\", \"action_type\"]]"
   ]
  },
  {
   "cell_type": "code",
   "execution_count": 14,
   "metadata": {
    "collapsed": true
   },
   "outputs": [],
   "source": [
    "# Processing for action_type attribute\n",
    "# Replace null values with 'NAN'\n",
    "sessions_data_action_type.action_type = sessions_data_action_type.action_type.fillna(\"NAN\")\n",
    "sessions_data_action_type.action_type = sessions_data_action_type.action_type.replace(\n",
    "    {\n",
    "        '-unknown-': 'NAN'\n",
    "    }\n",
    ")\n",
    "\n",
    "# Replace infrequent values with 'Other' to avoid overfitting and speed up computation\n",
    "THRESHOLD = 0.005*sessions_data_action_type.shape[0]\n",
    "counts = sessions_data_action_type.action_type.value_counts()\n",
    "sessions_data_action_type.action_type = \\\n",
    "sessions_data_action_type.action_type.apply(lambda x: 'Other' if counts[x] < THRESHOLD else x)"
   ]
  },
  {
   "cell_type": "code",
   "execution_count": 15,
   "metadata": {
    "collapsed": false
   },
   "outputs": [],
   "source": [
    "# Get counts of each action_type for each user\n",
    "unique_actions = sessions_data_action_type[\"action_type\"].unique()\n",
    "\n",
    "for act in unique_actions:\n",
    "    sessions_data_ids = sessions_data_ids.join(\n",
    "        sessions_data_action_type.loc[sessions_data_action_type.action_type == act, :].groupby(\n",
    "            ['user_id']).size().to_frame(),\n",
    "        on=\"user_id\")\n",
    "    sessions_data_ids.rename(columns={0 : \"action_type_\" + act}, inplace=True)\n",
    "    \n",
    "sessions_data_ids = sessions_data_ids.fillna(0)"
   ]
  },
  {
   "cell_type": "code",
   "execution_count": 16,
   "metadata": {
    "collapsed": false
   },
   "outputs": [],
   "source": [
    "# Get mean and std of distribution of counts of action_type for each user\n",
    "sessions_data_ids[\"NumActionTypeMean\"] = \\\n",
    "sessions_data_ids.loc[:, \"action_type_NAN\":\"action_type_Other\"].mean(axis=1)\n",
    "\n",
    "sessions_data_ids[\"NumActionTypeStd\"] = \\\n",
    "sessions_data_ids.loc[:, \"action_type_NAN\":\"action_type_Other\"].std(axis=1)"
   ]
  },
  {
   "cell_type": "code",
   "execution_count": 17,
   "metadata": {
    "collapsed": false
   },
   "outputs": [],
   "source": [
    "# Repeat procedure for action_detail\n",
    "# Get user ids and action_detail for action_detail processing\n",
    "sessions_data_action_detail = sessions_data.loc[:, [\"user_id\", \"action_detail\"]]\n",
    "\n",
    "# Processing for action_detail attribute\n",
    "# Replace null values with 'NAN'\n",
    "sessions_data_action_detail.action_detail = sessions_data_action_detail.action_detail.fillna(\"NAN\")\n",
    "sessions_data_action_detail.action_detail = sessions_data_action_detail.action_detail.replace(\n",
    "    {\n",
    "        '-unknown-': 'NAN'\n",
    "    }\n",
    ")\n",
    "\n",
    "# Replace infrequent values with 'Other' to avoid overfitting and speed up computation\n",
    "THRESHOLD = 0.005*sessions_data_action_detail.shape[0]\n",
    "counts = sessions_data_action_detail.action_detail.value_counts()\n",
    "sessions_data_action_detail.action_detail = \\\n",
    "sessions_data_action_detail.action_detail.apply(lambda x: 'Other' if counts[x] < THRESHOLD else x)\n",
    "\n",
    "# Get counts of each action_type for each user\n",
    "unique_actions = sessions_data_action_detail[\"action_detail\"].unique()\n",
    "\n",
    "for act in unique_actions:\n",
    "    sessions_data_ids = sessions_data_ids.join(\n",
    "        sessions_data_action_detail.loc[sessions_data_action_detail.action_detail == act, :].groupby(\n",
    "            ['user_id']).size().to_frame(),\n",
    "        on=\"user_id\")\n",
    "    sessions_data_ids.rename(columns={0 : \"action_detail_\" + act}, inplace=True)\n",
    "    \n",
    "sessions_data_ids = sessions_data_ids.fillna(0)"
   ]
  },
  {
   "cell_type": "code",
   "execution_count": 18,
   "metadata": {
    "collapsed": true
   },
   "outputs": [],
   "source": [
    "# Get mean and std of distribution of counts of action_detail for each user\n",
    "sessions_data_ids[\"NumActionDetailMean\"] = \\\n",
    "sessions_data_ids.loc[:, \"action_detail_NAN\":\"action_detail_listing_reviews\"].mean(axis=1)\n",
    "\n",
    "sessions_data_ids[\"NumActionDetailStd\"] = \\\n",
    "sessions_data_ids.loc[:, \"action_detail_NAN\":\"action_detail_listing_reviews\"].std(axis=1)"
   ]
  },
  {
   "cell_type": "code",
   "execution_count": 19,
   "metadata": {
    "collapsed": true
   },
   "outputs": [],
   "source": [
    "# Repeat the procedure for device_type\n",
    "# Get user ids and device_type for device_type processing\n",
    "sessions_data_device_type = sessions_data.loc[:, [\"user_id\", \"device_type\"]]\n",
    "\n",
    "# Processing for device_type attribute\n",
    "# Replace null values with 'NAN'\n",
    "sessions_data_device_type.device_type = sessions_data_device_type.device_type.fillna(\"NAN\")\n",
    "sessions_data_device_type.device_type = sessions_data_device_type.device_type.replace(\n",
    "    {\n",
    "        '-unknown-': 'NAN'\n",
    "    }\n",
    ")\n",
    "\n",
    "# Replace infrequent values with 'Other' to avoid overfitting and speed up computation\n",
    "THRESHOLD = 0.005*sessions_data_device_type.shape[0]\n",
    "counts = sessions_data_device_type.device_type.value_counts()\n",
    "sessions_data_device_type.device_type = \\\n",
    "sessions_data_device_type.device_type.apply(lambda x: 'Other' if counts[x] < THRESHOLD else x)\n",
    "\n",
    "# Get counts of each action_type for each user\n",
    "unique_actions = sessions_data_device_type[\"device_type\"].unique()\n",
    "\n",
    "for act in unique_actions:\n",
    "    sessions_data_ids = sessions_data_ids.join(\n",
    "        sessions_data_device_type.loc[sessions_data_device_type.device_type == act, :].groupby(\n",
    "            ['user_id']).size().to_frame(),\n",
    "        on=\"user_id\")\n",
    "    sessions_data_ids.rename(columns={0 : \"device_type_\" + act}, inplace=True)\n",
    "    \n",
    "sessions_data_ids = sessions_data_ids.fillna(0)"
   ]
  },
  {
   "cell_type": "code",
   "execution_count": 20,
   "metadata": {
    "collapsed": true
   },
   "outputs": [],
   "source": [
    "# Get mean and std of distribution of counts of device_type for each user\n",
    "sessions_data_ids[\"NumDeviceTypeMean\"] = \\\n",
    "sessions_data_ids.loc[:, \"device_type_Windows Desktop\":\"device_type_Tablet\"].mean(axis=1)\n",
    "\n",
    "sessions_data_ids[\"NumDeviceTypeStd\"] = \\\n",
    "sessions_data_ids.loc[:, \"device_type_Windows Desktop\":\"device_type_Tablet\"].std(axis=1)"
   ]
  },
  {
   "cell_type": "code",
   "execution_count": 24,
   "metadata": {
    "collapsed": false
   },
   "outputs": [],
   "source": [
    "# Get user ids and secs_elapsed for secs_elapsed processing\n",
    "sessions_data_secs_elapsed = sessions_data.loc[:, [\"user_id\", \"secs_elapsed\"]]\n",
    "sessions_data_secs_elapsed.secs_elapsed = sessions_data_secs_elapsed.secs_elapsed.fillna(0)\n",
    "\n",
    "# Get simple stats on secs_elapsed\n",
    "tmp = sessions_data_secs_elapsed.groupby('user_id').aggregate(\n",
    "    [\n",
    "        np.mean, np.std, np.median, stats.skew\n",
    "    ]\n",
    ")\n",
    "\n",
    "sessions_data_ids = sessions_data_ids.join(tmp, on=\"user_id\")"
   ]
  },
  {
   "cell_type": "code",
   "execution_count": 25,
   "metadata": {
    "collapsed": false
   },
   "outputs": [],
   "source": [
    "sessions_data_ids.to_csv(\"../Data/sessions_processed.csv\", header=True)"
   ]
  }
 ],
 "metadata": {
  "kernelspec": {
   "display_name": "Python [Root]",
   "language": "python",
   "name": "Python [Root]"
  },
  "language_info": {
   "codemirror_mode": {
    "name": "ipython",
    "version": 3
   },
   "file_extension": ".py",
   "mimetype": "text/x-python",
   "name": "python",
   "nbconvert_exporter": "python",
   "pygments_lexer": "ipython3",
   "version": "3.5.2"
  }
 },
 "nbformat": 4,
 "nbformat_minor": 0
}
