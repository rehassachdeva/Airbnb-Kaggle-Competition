{
 "cells": [
  {
   "cell_type": "code",
   "execution_count": 6,
   "metadata": {
    "collapsed": true
   },
   "outputs": [],
   "source": [
    "import numpy as np\n",
    "import pandas as pd\n",
    "import matplotlib.pyplot as plt\n",
    "import seaborn as sns\n",
    "import datetime as dt\n",
    "\n",
    "from sklearn.neighbors import KNeighborsClassifier\n",
    "\n",
    "# Draw inline\n",
    "%matplotlib inline\n",
    "\n",
    "# Disable warnings from printing\n",
    "from warnings import filterwarnings\n",
    "filterwarnings('ignore')"
   ]
  },
  {
   "cell_type": "code",
   "execution_count": 7,
   "metadata": {
    "collapsed": false
   },
   "outputs": [],
   "source": [
    "# Read the data\n",
    "train_users = pd.read_csv('../Data/train_users.csv')\n",
    "test_users = pd.read_csv('../Data/test_users.csv')\n",
    "\n",
    "# Drop country for processing\n",
    "LABEL = 'country_destination'\n",
    "labels = train_users[LABEL].copy()\n",
    "train_users.drop(LABEL, inplace=True, axis=1)\n",
    "\n",
    "# Merge train and test users\n",
    "users = pd.concat((train_users, test_users), axis=0, ignore_index=True)\n",
    "\n",
    "# Fill null with -1 for missing values\n",
    "users.fillna(-1, inplace=True)\n",
    "\n",
    "# Drop id for processing\n",
    "ids = users[\"id\"].copy()\n",
    "users.drop(\"id\", inplace=True, axis=1)"
   ]
  },
  {
   "cell_type": "code",
   "execution_count": 8,
   "metadata": {
    "collapsed": false
   },
   "outputs": [],
   "source": [
    "CATEGORICAL_FEATURES = ['affiliate_channel', 'affiliate_provider',\n",
    "                        'first_affiliate_tracked', 'first_browser',\n",
    "                        'first_device_type', 'gender', 'language', 'signup_app',\n",
    "                        'signup_method', 'signup_flow']\n",
    "\n",
    "# A parameter to speed-up computation and avoid overfitting.\n",
    "# Categorical values that appear less than the threshold will be removed.\n",
    "THRESHOLD = 0.001*users.shape[0]\n",
    "\n",
    "for feature in CATEGORICAL_FEATURES:\n",
    "    counts = users[feature].value_counts()\n",
    "    users[feature] = users[feature].apply(lambda x: 'Other' if counts[x] < THRESHOLD else x)"
   ]
  },
  {
   "cell_type": "code",
   "execution_count": 9,
   "metadata": {
    "collapsed": false
   },
   "outputs": [
    {
     "data": {
      "image/png": "[encoded data removed]",
      "text/plain": [
       "<matplotlib.figure.Figure at 0x7f5bd2261b38>"
      ]
     },
     "metadata": {},
     "output_type": "display_data"
    }
   ],
   "source": [
    "# affiliate_channel processing. No missing values.\n",
    "plt.rcParams['figure.figsize'] = (16.0, 6.0)\n",
    "sns.countplot(x='affiliate_channel', data=users)\n",
    "users.affiliate_channel.describe()\n",
    "\n",
    "# So can uses simple one hot encoding\n",
    "users = users.join(pd.get_dummies(users['affiliate_channel'], prefix=\"affiliate_channel\"))\n",
    "  \n",
    "# Drop the original columns.\n",
    "users = users.drop([\"affiliate_channel\"], axis=1)\n",
    "\n",
    "# Similarly with affiliate_provider\n",
    "users = users.join(pd.get_dummies(users['affiliate_provider'], prefix=\"affiliate_provider\"))\n",
    "users = users.drop([\"affiliate_provider\"], axis=1)\n",
    "\n",
    "# first_affiliate_tracked processing\n",
    "# Fill missing values with mode as they are less and mode is extremely common.\n",
    "# Then apply one-hot encoding as above\n",
    "users.loc[users.first_affiliate_tracked.isnull(), 'first_affiliate_tracked'] = \\\n",
    "users.loc[:, 'first_affiliate_tracked'].mode()[0]\n",
    "users = users.join(pd.get_dummies(users['first_affiliate_tracked'], prefix=\"first_affiliate_tracked\"))\n",
    "users = users.drop([\"first_affiliate_tracked\"], axis=1)\n",
    "\n",
    "# Similarly with first_browser\n",
    "users = users.join(pd.get_dummies(users['first_browser'], prefix=\"first_browser\"))\n",
    "users = users.drop([\"first_browser\"], axis=1)\n",
    "\n",
    "# Similarly with first_device_type\n",
    "users = users.join(pd.get_dummies(users['first_device_type'], prefix=\"first_device_type\"))\n",
    "users = users.drop([\"first_device_type\"], axis=1)\n",
    "\n",
    "# Similarly with language\n",
    "users = users.join(pd.get_dummies(users['language'], prefix=\"language\"))\n",
    "users = users.drop([\"language\"], axis=1)\n",
    "\n",
    "# Similarly with signup_app\n",
    "users = users.join(pd.get_dummies(users['signup_app'], prefix=\"signup_app\"))\n",
    "users = users.drop([\"signup_app\"], axis=1)\n",
    "\n",
    "# Similarly with signup_flow. It is categorical, page number.\n",
    "users = users.join(pd.get_dummies(users['signup_flow'], prefix=\"signup_flow\"))\n",
    "users = users.drop([\"signup_flow\"], axis=1)\n",
    "\n",
    "# Similarly with signup_method.\n",
    "users = users.join(pd.get_dummies(users['signup_method'], prefix=\"signup_method\"))\n",
    "users = users.drop([\"signup_method\"], axis=1)"
   ]
  },
  {
   "cell_type": "code",
   "execution_count": 10,
   "metadata": {
    "collapsed": false
   },
   "outputs": [],
   "source": [
    "# data_account_created processing\n",
    "# Extract year, month, day, weekday from dates\n",
    "\n",
    "DATE_FORMAT = '%Y-%m-%d'\n",
    "\n",
    "def _parse_date(date_str):\n",
    "    time_dt = dt.datetime.strptime(date_str, DATE_FORMAT)\n",
    "    return [time_dt.year, time_dt.month, time_dt.day, time_dt.weekday()]\n",
    "\n",
    "def extract_dates_inplace(features, date_column):\n",
    "    extracted_vals = np.vstack(features[date_column].apply(\n",
    "        (lambda x: _parse_date(x))))\n",
    "    for i, period in enumerate(['year', 'month', 'day', 'weekday']):\n",
    "        features['%s_%s' % (date_column, period)] = extracted_vals[:, i]\n",
    "    features.drop(date_column, inplace=True, axis=1)\n",
    "    \n",
    "extract_dates_inplace(users, \"date_account_created\")\n",
    "\n",
    "# Since date_first_booking is null for entire test data, we can simply drop it.\n",
    "# Dropping timestamp_first_active for now\n",
    "users.drop(['timestamp_first_active', 'date_first_booking'], inplace=True, axis=1)"
   ]
  },
  {
   "cell_type": "code",
   "execution_count": 11,
   "metadata": {
    "collapsed": false
   },
   "outputs": [],
   "source": [
    "# Age is missing for values -1, and spurious values > 95 or < 13\n",
    "users.age[users.age > 95] = -1\n",
    "users.age[users.age < 13] = -1\n",
    "\n",
    "# Now for all missing age values (-1), predict them using KNN\n",
    "# Augment data with id for original order of records\n",
    "users[\"tempIdx\"] = users.index\n",
    "\n",
    "# Get records with age = -1\n",
    "query_matrix = users[users.age == -1]\n",
    "    \n",
    "# Get records with age != -1\n",
    "search_matrix = users[users.age != -1]\n",
    "\n",
    "# Predict age using KNN\n",
    "clf = KNeighborsClassifier(n_neighbors=1)\n",
    "clf.fit(search_matrix.loc[:, \"affiliate_channel_api\":\"date_account_created_weekday\"], search_matrix['age'])\n",
    "query_matrix['age'] = clf.predict(query_matrix.loc[:, \"affiliate_channel_api\":\"date_account_created_weekday\"])\n",
    "\n",
    "# Construct data to original form and order\n",
    "users = pd.concat((search_matrix, query_matrix), ignore_index=True)\n",
    "users = users.sort_values([\"tempIdx\"]).reset_index()\n",
    "users.drop([\"index\"], axis=1, inplace=True)\n",
    "users.drop([\"tempIdx\"], axis=1, inplace=True)"
   ]
  },
  {
   "cell_type": "code",
   "execution_count": 12,
   "metadata": {
    "collapsed": true
   },
   "outputs": [],
   "source": [
    "# Similarly for gender\n",
    "# Augment data with id for original order of records\n",
    "users[\"tempIdx\"] = users.index\n",
    "\n",
    "# Get records with gender=\"-unknown-\"\n",
    "query_matrix = users[users.gender == \"-unknown-\"]\n",
    "    \n",
    "# Get records with age != -1\n",
    "search_matrix = users[users.gender != \"-unknown-\"]\n",
    "\n",
    "# Predict age using KNN\n",
    "clf = KNeighborsClassifier(n_neighbors=1)\n",
    "clf.fit(search_matrix.loc[:, \"age\":\"date_account_created_weekday\"], search_matrix['gender'])\n",
    "query_matrix['gender'] = clf.predict(query_matrix.loc[:, \"age\":\"date_account_created_weekday\"])\n",
    "\n",
    "# Construct data to original form and order\n",
    "users = pd.concat((search_matrix, query_matrix), ignore_index=True)\n",
    "users = users.sort_values([\"tempIdx\"]).reset_index()\n",
    "users.drop([\"index\"], axis=1, inplace=True)\n",
    "users.drop([\"tempIdx\"], axis=1, inplace=True)\n",
    "\n",
    "# One hot encoding for gender\n",
    "users = users.join(pd.get_dummies(users['gender'], prefix=\"gender\"))\n",
    "users = users.drop([\"gender\"], axis=1)"
   ]
  },
  {
   "cell_type": "code",
   "execution_count": 18,
   "metadata": {
    "collapsed": false
   },
   "outputs": [],
   "source": [
    "# Re attach the ids\n",
    "users = pd.concat((users, ids), axis=1)\n",
    "\n",
    "# Save processed training and testing data.\n",
    "training = users[:train_users.shape[0]]\n",
    "testing = users[train_users.shape[0]:]\n",
    "\n",
    "TRAINING_FINAL_CSV_FILE = '../Data/train_users_processed.csv'\n",
    "TESTING_FINAL_CSV_FILE = '../Data/test_users_processed.csv'\n",
    "LABELS_FINAL_CSV_FILE = '../Data/labels.csv'\n",
    "\n",
    "training.to_csv(TRAINING_FINAL_CSV_FILE, header=True, ignore_index=True)\n",
    "testing.to_csv(TESTING_FINAL_CSV_FILE, header=True)\n",
    "labels.to_csv(LABELS_FINAL_CSV_FILE, header=True)"
   ]
  }
 ],
 "metadata": {
  "anaconda-cloud": {},
  "kernelspec": {
   "display_name": "Python [Root]",
   "language": "python",
   "name": "Python [Root]"
  },
  "language_info": {
   "codemirror_mode": {
    "name": "ipython",
    "version": 3
   },
   "file_extension": ".py",
   "mimetype": "text/x-python",
   "name": "python",
   "nbconvert_exporter": "python",
   "pygments_lexer": "ipython3",
   "version": "3.5.2"
  }
 },
 "nbformat": 4,
 "nbformat_minor": 0
}
